{
 "cells": [
  {
   "cell_type": "code",
   "execution_count": 1,
   "metadata": {},
   "outputs": [],
   "source": [
    "class Laptop:\n",
    "    def specifications(self):\n",
    "        return \"i5, 16 GB, 1TB\"\n",
    "    def operating_system(self):\n",
    "        return \"Windows 11\""
   ]
  },
  {
   "cell_type": "code",
   "execution_count": 2,
   "metadata": {},
   "outputs": [],
   "source": [
    "my_laptop = Laptop()"
   ]
  },
  {
   "cell_type": "code",
   "execution_count": 3,
   "metadata": {},
   "outputs": [
    {
     "data": {
      "text/plain": [
       "'i5, 16 GB, 1TB'"
      ]
     },
     "execution_count": 3,
     "metadata": {},
     "output_type": "execute_result"
    }
   ],
   "source": [
    "my_laptop.specifications()"
   ]
  },
  {
   "cell_type": "code",
   "execution_count": 4,
   "metadata": {},
   "outputs": [
    {
     "data": {
      "text/plain": [
       "'i5, 16 GB, 1TB'"
      ]
     },
     "execution_count": 4,
     "metadata": {},
     "output_type": "execute_result"
    }
   ],
   "source": [
    "your_laptop = Laptop()\n",
    "your_laptop.specifications()"
   ]
  },
  {
   "cell_type": "code",
   "execution_count": 5,
   "metadata": {},
   "outputs": [],
   "source": [
    "class ComputerLab:\n",
    "    def apple(self):\n",
    "        return \"i5, 16 GB, 1TB\"\n",
    "    def dell(self):\n",
    "        return \"i7, 32 GB, 500GB\""
   ]
  },
  {
   "cell_type": "code",
   "execution_count": 6,
   "metadata": {},
   "outputs": [
    {
     "data": {
      "text/plain": [
       "'i5, 16 GB, 1TB'"
      ]
     },
     "execution_count": 6,
     "metadata": {},
     "output_type": "execute_result"
    }
   ],
   "source": [
    "C1 = ComputerLab()\n",
    "C1.apple()"
   ]
  },
  {
   "cell_type": "code",
   "execution_count": 7,
   "metadata": {},
   "outputs": [
    {
     "data": {
      "text/plain": [
       "'i5, 16 GB, 1TB'"
      ]
     },
     "execution_count": 7,
     "metadata": {},
     "output_type": "execute_result"
    }
   ],
   "source": [
    "ComputerLab.apple(C1)"
   ]
  },
  {
   "cell_type": "code",
   "execution_count": 8,
   "metadata": {},
   "outputs": [],
   "source": [
    "class Calculator:\n",
    "    def mysum(self,a,b):\n",
    "        return(a+b)\n",
    "    def product(self,a,b):\n",
    "        return(a*b)\n",
    "my_object = Calculator()"
   ]
  },
  {
   "cell_type": "code",
   "execution_count": 9,
   "metadata": {},
   "outputs": [
    {
     "data": {
      "text/plain": [
       "5"
      ]
     },
     "execution_count": 9,
     "metadata": {},
     "output_type": "execute_result"
    }
   ],
   "source": [
    "my_object.mysum(2,3)"
   ]
  },
  {
   "cell_type": "code",
   "execution_count": 10,
   "metadata": {},
   "outputs": [
    {
     "data": {
      "text/plain": [
       "6"
      ]
     },
     "execution_count": 10,
     "metadata": {},
     "output_type": "execute_result"
    }
   ],
   "source": [
    "my_object.product(2,3)"
   ]
  },
  {
   "cell_type": "code",
   "execution_count": 11,
   "metadata": {},
   "outputs": [
    {
     "name": "stdout",
     "output_type": "stream",
     "text": [
      "2083418953040\n",
      "2083416815120\n"
     ]
    }
   ],
   "source": [
    "class Computer:\n",
    "    pass\n",
    "c1 = Computer()\n",
    "c2 = Computer()\n",
    "print(id(c1))\n",
    "print(id(c2))"
   ]
  },
  {
   "cell_type": "code",
   "execution_count": 13,
   "metadata": {},
   "outputs": [],
   "source": [
    "class PC:\n",
    "    def _init_(self):\n",
    "     print(\"This is called automatically!\")\n",
    "    def config(self):\n",
    "     print(\"i5, 16 GB, 1TB\")\n",
    "mycomputer = PC()"
   ]
  },
  {
   "cell_type": "code",
   "execution_count": 14,
   "metadata": {},
   "outputs": [
    {
     "name": "stdout",
     "output_type": "stream",
     "text": [
      "Config is: 16GB i7\n"
     ]
    }
   ],
   "source": [
    "class PC:\n",
    "    def __init__(self, c, r):\n",
    "        self.c = c\n",
    "        self.r = r\n",
    "    def config(self):\n",
    "        print(\"Config is:\",self.r, self.c)\n",
    "mycomputer = PC('i7', '16GB')\n",
    "mycomputer.config()"
   ]
  },
  {
   "cell_type": "code",
   "execution_count": 15,
   "metadata": {},
   "outputs": [
    {
     "name": "stdout",
     "output_type": "stream",
     "text": [
      "This is constructor, and is called autoatically!\n",
      "This is product function!\n"
     ]
    },
    {
     "data": {
      "text/plain": [
       "12"
      ]
     },
     "execution_count": 15,
     "metadata": {},
     "output_type": "execute_result"
    }
   ],
   "source": [
    "class Calculator:\n",
    "    def __init__(self,a,b):\n",
    "        self.a = a\n",
    "        self.b = b\n",
    "        print(\"This is constructor, and is called autoatically!\")\n",
    "    def my_sum(self):\n",
    "        print(\"This is sum function!\")\n",
    "        my_sum = self.a + self.b\n",
    "        return my_sum\n",
    "    def my_product(self):\n",
    "        print(\"This is product function!\")\n",
    "        my_product = self.a * self.b\n",
    "        return my_product\n",
    "my_obj = Calculator(3,4)\n",
    "my_obj.my_product()"
   ]
  },
  {
   "cell_type": "code",
   "execution_count": 16,
   "metadata": {},
   "outputs": [],
   "source": [
    "class Computer:\n",
    "    def __init__(self):\n",
    "        self.name = \"David\"\n",
    "        self.age = 28\n",
    "    def update(self):\n",
    "        self.age = self.age + 1\n",
    "    def equal(self,other):\n",
    "        if self.age == other.age:\n",
    "            return True\n",
    "        else:\n",
    "            return False"
   ]
  },
  {
   "cell_type": "code",
   "execution_count": 17,
   "metadata": {},
   "outputs": [],
   "source": [
    "c1 = Computer()\n",
    "c2 = Computer()"
   ]
  },
  {
   "cell_type": "code",
   "execution_count": 18,
   "metadata": {},
   "outputs": [
    {
     "name": "stdout",
     "output_type": "stream",
     "text": [
      "28\n"
     ]
    }
   ],
   "source": [
    "print(c1.age)"
   ]
  },
  {
   "cell_type": "code",
   "execution_count": 19,
   "metadata": {},
   "outputs": [],
   "source": [
    "c1.update()"
   ]
  },
  {
   "cell_type": "code",
   "execution_count": 20,
   "metadata": {},
   "outputs": [
    {
     "name": "stdout",
     "output_type": "stream",
     "text": [
      "29\n",
      "28\n"
     ]
    }
   ],
   "source": [
    "print(c1.age)\n",
    "print(c2.age)"
   ]
  },
  {
   "cell_type": "code",
   "execution_count": 26,
   "metadata": {},
   "outputs": [],
   "source": [
    "class Car:\n",
    "    def __init__(self):\n",
    "        self.mielage = 10\n",
    "        self.company = \"Ford\""
   ]
  },
  {
   "cell_type": "code",
   "execution_count": 27,
   "metadata": {},
   "outputs": [],
   "source": [
    "mycar = Car()\n",
    "yourcar = Car()"
   ]
  },
  {
   "cell_type": "code",
   "execution_count": 28,
   "metadata": {},
   "outputs": [
    {
     "name": "stdout",
     "output_type": "stream",
     "text": [
      "Ford 10\n"
     ]
    }
   ],
   "source": [
    "print(mycar.company, mycar.mielage)\n"
   ]
  },
  {
   "cell_type": "code",
   "execution_count": 29,
   "metadata": {},
   "outputs": [
    {
     "name": "stdout",
     "output_type": "stream",
     "text": [
      "Ford 10\n"
     ]
    }
   ],
   "source": [
    "print(yourcar.company, yourcar.mielage)"
   ]
  },
  {
   "cell_type": "code",
   "execution_count": 30,
   "metadata": {},
   "outputs": [],
   "source": [
    "mycar.mielage = 7\n",
    "mycar.company = \"Daihatsu\""
   ]
  },
  {
   "cell_type": "code",
   "execution_count": 31,
   "metadata": {},
   "outputs": [
    {
     "name": "stdout",
     "output_type": "stream",
     "text": [
      "Daihatsu 7\n"
     ]
    }
   ],
   "source": [
    "print(mycar.company, mycar.mielage)"
   ]
  },
  {
   "cell_type": "code",
   "execution_count": 33,
   "metadata": {},
   "outputs": [
    {
     "name": "stdout",
     "output_type": "stream",
     "text": [
      "Ford 10\n"
     ]
    }
   ],
   "source": [
    "print(yourcar.company, yourcar.mielage)"
   ]
  },
  {
   "cell_type": "code",
   "execution_count": 34,
   "metadata": {},
   "outputs": [],
   "source": [
    "class Car:\n",
    "    fuel = 'disel'\n",
    "    def __init__(self):\n",
    "        self.mielage = 10\n",
    "        self.company = \"Ford\""
   ]
  },
  {
   "cell_type": "code",
   "execution_count": 35,
   "metadata": {},
   "outputs": [],
   "source": [
    "c1 = Car()\n",
    "c2 = Car()\n",
    "c3 = Car()"
   ]
  },
  {
   "cell_type": "code",
   "execution_count": 36,
   "metadata": {},
   "outputs": [
    {
     "name": "stdout",
     "output_type": "stream",
     "text": [
      "disel\n",
      "disel\n",
      "disel\n"
     ]
    }
   ],
   "source": [
    "print(c1.fuel)\n",
    "print(c2.fuel)\n",
    "print(c3.fuel)"
   ]
  },
  {
   "cell_type": "code",
   "execution_count": 37,
   "metadata": {},
   "outputs": [
    {
     "name": "stdout",
     "output_type": "stream",
     "text": [
      "7\n"
     ]
    }
   ],
   "source": [
    "c1.mielage = 7\n",
    "print(c1.mielage)"
   ]
  },
  {
   "cell_type": "code",
   "execution_count": 38,
   "metadata": {},
   "outputs": [
    {
     "data": {
      "text/plain": [
       "10"
      ]
     },
     "execution_count": 38,
     "metadata": {},
     "output_type": "execute_result"
    }
   ],
   "source": [
    "c2.mielage"
   ]
  },
  {
   "cell_type": "code",
   "execution_count": 40,
   "metadata": {},
   "outputs": [
    {
     "name": "stdout",
     "output_type": "stream",
     "text": [
      "electric\n",
      "electric\n",
      "electric\n"
     ]
    }
   ],
   "source": [
    "Car.fuel = 'electric'\n",
    "print(c1.fuel)\n",
    "print(c2.fuel)\n",
    "print(c3.fuel)"
   ]
  },
  {
   "cell_type": "code",
   "execution_count": 41,
   "metadata": {},
   "outputs": [
    {
     "name": "stdout",
     "output_type": "stream",
     "text": [
      "petrol\n",
      "petrol\n",
      "petrol\n"
     ]
    }
   ],
   "source": [
    "Car.fuel = 'petrol'\n",
    "print(c1.fuel)\n",
    "print(c2.fuel)\n",
    "print(c3.fuel)"
   ]
  },
  {
   "cell_type": "code",
   "execution_count": null,
   "metadata": {},
   "outputs": [],
   "source": [
    "class TBC:\n",
    "    address = \"Thapathali, KTM\"\n",
    "    contact = 98980009807\n",
    "    principal  = \"Mr XYZ\"\n",
    "def _init_(self,program_name,program_duration,degree_awarded):\n",
    "    self.program_name = program_name"
   ]
  }
 ],
 "metadata": {
  "kernelspec": {
   "display_name": "venv",
   "language": "python",
   "name": "python3"
  },
  "language_info": {
   "codemirror_mode": {
    "name": "ipython",
    "version": 3
   },
   "file_extension": ".py",
   "mimetype": "text/x-python",
   "name": "python",
   "nbconvert_exporter": "python",
   "pygments_lexer": "ipython3",
   "version": "3.13.1"
  }
 },
 "nbformat": 4,
 "nbformat_minor": 2
}
