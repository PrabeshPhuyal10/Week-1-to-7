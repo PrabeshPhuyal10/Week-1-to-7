{
 "cells": [
  {
   "cell_type": "code",
   "execution_count": 10,
   "metadata": {},
   "outputs": [
    {
     "name": "stdout",
     "output_type": "stream",
     "text": [
      "Hello From My Function!\n"
     ]
    }
   ],
   "source": [
    "def my_function():\n",
    "    print(\"Hello From My Function!\")\n",
    "y = my_function()"
   ]
  },
  {
   "cell_type": "code",
   "execution_count": 12,
   "metadata": {},
   "outputs": [],
   "source": [
    "def my_function_with_args(username,greeting):\n",
    "    print(\"Hello, %s , From My Function!, I wish you %s\"%(username, greeting))"
   ]
  },
  {
   "cell_type": "code",
   "execution_count": 13,
   "metadata": {},
   "outputs": [
    {
     "name": "stdout",
     "output_type": "stream",
     "text": [
      "Hello, Sam , From My Function!, I wish you a good day!\n"
     ]
    }
   ],
   "source": [
    "my_function_with_args(\"Sam\",\"a good day!\")"
   ]
  },
  {
   "cell_type": "code",
   "execution_count": 15,
   "metadata": {},
   "outputs": [],
   "source": [
    "def sum_two_numbers(a, b):\n",
    "    return a+b"
   ]
  },
  {
   "cell_type": "code",
   "execution_count": 16,
   "metadata": {},
   "outputs": [
    {
     "name": "stdout",
     "output_type": "stream",
     "text": [
      "22\n"
     ]
    }
   ],
   "source": [
    "y = sum_two_numbers(5,17)\n",
    "print(y)\n"
   ]
  },
  {
   "cell_type": "code",
   "execution_count": 26,
   "metadata": {},
   "outputs": [
    {
     "name": "stdout",
     "output_type": "stream",
     "text": [
      "Hello From My Function!\n",
      "Hello, John Doe , From My Function!, I wish you a great year!\n",
      "3\n"
     ]
    }
   ],
   "source": [
    "\n",
    "def my_function():\n",
    "    print(\"Hello From My Function!\")\n",
    "\n",
    "def my_function_with_args(username, greeting):\n",
    "    print(\"Hello, %s , From My Function!, I wish you %s\" % (username, greeting))\n",
    "\n",
    "def sum_two_numbers(a, b):\n",
    "    return a + b\n",
    "\n",
    "\n",
    "my_function()\n",
    "\n",
    "\n",
    "my_function_with_args(\"John Doe\", \"a great year!\")\n",
    "\n",
    "\n",
    "x = sum_two_numbers(1, 2)\n",
    "print(x)\n"
   ]
  },
  {
   "cell_type": "code",
   "execution_count": 50,
   "metadata": {},
   "outputs": [
    {
     "name": "stdout",
     "output_type": "stream",
     "text": [
      "More organized code is a benefit of functions!\n",
      "More readable code is a benefit of functions!\n",
      "Easier code reuse is a benefit of functions!\n",
      "Allowing programmers to share and connect code together is a benefit of functions!\n"
     ]
    }
   ],
   "source": [
    "def list_benefits():\n",
    "    return [\"More organized code\", \"More readable code\", \"Easier code reuse\", \"Allowing programmers to share and connect code together\"]\n",
    "\n",
    "def build_sentence(info):\n",
    "    return f\"{info} is a benefit of functions!\"\n",
    "\n",
    "def name_the_benefits_of_functions():\n",
    "    listA = list_benefits()\n",
    "    for x in listA:\n",
    "        print(build_sentence(x))\n",
    "\n",
    "name_the_benefits_of_functions()\n"
   ]
  },
  {
   "cell_type": "code",
   "execution_count": 52,
   "metadata": {},
   "outputs": [],
   "source": [
    "def add_numbers(first_num=0, second_num=0):\n",
    "    return first_num+second_num"
   ]
  },
  {
   "cell_type": "code",
   "execution_count": 53,
   "metadata": {},
   "outputs": [
    {
     "name": "stdout",
     "output_type": "stream",
     "text": [
      "0\n"
     ]
    }
   ],
   "source": [
    "print(add_numbers())"
   ]
  },
  {
   "cell_type": "code",
   "execution_count": 58,
   "metadata": {},
   "outputs": [
    {
     "name": "stdout",
     "output_type": "stream",
     "text": [
      "The first number is:7\n",
      "The second number is:4\n",
      "11\n"
     ]
    }
   ],
   "source": [
    "print(add_numbers(7,4))"
   ]
  },
  {
   "cell_type": "code",
   "execution_count": 60,
   "metadata": {},
   "outputs": [
    {
     "name": "stdout",
     "output_type": "stream",
     "text": [
      "The first number is:0\n",
      "The second number is:4\n",
      "4\n"
     ]
    }
   ],
   "source": [
    "print(add_numbers(second_num=4))"
   ]
  },
  {
   "cell_type": "code",
   "execution_count": 62,
   "metadata": {},
   "outputs": [
    {
     "name": "stdout",
     "output_type": "stream",
     "text": [
      "Hello\n",
      "Hello Word\n",
      "Hello Word from TBC\n"
     ]
    }
   ],
   "source": [
    "print(\"Hello\")\n",
    "print(\"Hello\", \"Word\")\n",
    "print(\"Hello\", \"Word\", \"from\", \"TBC\")"
   ]
  },
  {
   "cell_type": "code",
   "execution_count": 64,
   "metadata": {},
   "outputs": [],
   "source": [
    "def make_path(*names):\n",
    "    result = \"\"\n",
    "    for name in names:\n",
    "        result +=name +\"/\"\n",
    "    return result"
   ]
  },
  {
   "cell_type": "code",
   "execution_count": 66,
   "metadata": {},
   "outputs": [
    {
     "name": "stdout",
     "output_type": "stream",
     "text": [
      "home/docs/\n"
     ]
    }
   ],
   "source": [
    "print(make_path(\"home\", \"docs\"))"
   ]
  },
  {
   "cell_type": "code",
   "execution_count": 68,
   "metadata": {},
   "outputs": [
    {
     "name": "stdout",
     "output_type": "stream",
     "text": [
      "home/code/python/sorter/\n"
     ]
    }
   ],
   "source": [
    "print(make_path(\"home\",\"code\",\"python\",\"sorter\"))"
   ]
  },
  {
   "cell_type": "code",
   "execution_count": 69,
   "metadata": {},
   "outputs": [],
   "source": [
    "def show_details(title=\"Details\", **info):\n",
    "    print(title)\n",
    "    for name in info:\n",
    "        print(name,\":\",info[name])"
   ]
  },
  {
   "cell_type": "code",
   "execution_count": 70,
   "metadata": {},
   "outputs": [
    {
     "name": "stdout",
     "output_type": "stream",
     "text": [
      "warning\n"
     ]
    }
   ],
   "source": [
    "show_details(title=\"warning\")"
   ]
  },
  {
   "cell_type": "code",
   "execution_count": 71,
   "metadata": {},
   "outputs": [
    {
     "name": "stdout",
     "output_type": "stream",
     "text": [
      "Details\n",
      "msg : file created\n",
      "err : no issues\n"
     ]
    }
   ],
   "source": [
    "show_details(msg=\"file created\", err=\"no issues\")"
   ]
  },
  {
   "cell_type": "code",
   "execution_count": 73,
   "metadata": {},
   "outputs": [
    {
     "name": "stdout",
     "output_type": "stream",
     "text": [
      "error\n",
      "reason : disk full\n"
     ]
    }
   ],
   "source": [
    "show_details(title=\"error\", reason=\"disk full\")"
   ]
  },
  {
   "cell_type": "code",
   "execution_count": 74,
   "metadata": {},
   "outputs": [],
   "source": [
    "def sqaure(num):\n",
    "    return num**2"
   ]
  },
  {
   "cell_type": "code",
   "execution_count": 77,
   "metadata": {},
   "outputs": [
    {
     "data": {
      "text/plain": [
       "9"
      ]
     },
     "execution_count": 77,
     "metadata": {},
     "output_type": "execute_result"
    }
   ],
   "source": [
    "sqaure(3)"
   ]
  },
  {
   "cell_type": "code",
   "execution_count": 81,
   "metadata": {},
   "outputs": [
    {
     "name": "stdout",
     "output_type": "stream",
     "text": [
      "1\n",
      "4\n",
      "9\n",
      "16\n",
      "25\n"
     ]
    }
   ],
   "source": [
    "my_nums = [1,2,3,4,5]\n",
    "for n in my_nums:\n",
    "    print(sqaure(n))"
   ]
  },
  {
   "cell_type": "code",
   "execution_count": 83,
   "metadata": {},
   "outputs": [],
   "source": [
    "def splicer(mystring):\n",
    "    if len(mystring) % 2 == 0:\n",
    "        return 'even'\n",
    "    else:\n",
    "        return mystring[0]\n",
    "\n"
   ]
  },
  {
   "cell_type": "code",
   "execution_count": 85,
   "metadata": {},
   "outputs": [],
   "source": [
    "mynames =['john','cindy','sarah','kelly','Mike']"
   ]
  },
  {
   "cell_type": "code",
   "execution_count": 86,
   "metadata": {},
   "outputs": [
    {
     "data": {
      "text/plain": [
       "['even', 'c', 's', 'k', 'even']"
      ]
     },
     "execution_count": 86,
     "metadata": {},
     "output_type": "execute_result"
    }
   ],
   "source": [
    "list(map(splicer,mynames))"
   ]
  },
  {
   "cell_type": "code",
   "execution_count": 87,
   "metadata": {},
   "outputs": [
    {
     "data": {
      "text/plain": [
       "9"
      ]
     },
     "execution_count": 87,
     "metadata": {},
     "output_type": "execute_result"
    }
   ],
   "source": [
    "def square(num):\n",
    "    result = num**2\n",
    "    return result\n",
    "\n",
    "square(2)\n",
    "\n",
    "def square(num):\n",
    "    return num**2\n",
    "\n",
    "square(2)\n",
    "\n",
    "def square(num): return num**2\n",
    "\n",
    "square(2)\n",
    "\n",
    "lambda num: num ** 2\n",
    "\n",
    "square_l = lambda num: num ** 2\n",
    "\n",
    "square_l(3)\n"
   ]
  },
  {
   "cell_type": "code",
   "execution_count": 1,
   "metadata": {},
   "outputs": [
    {
     "data": {
      "text/plain": [
       "['Thapa Swikrit',\n",
       " 'Sharma Arju',\n",
       " 'KC Mavira',\n",
       " 'Acharya Nistha',\n",
       " 'Limbu Hingish']"
      ]
     },
     "execution_count": 1,
     "metadata": {},
     "output_type": "execute_result"
    }
   ],
   "source": [
    "my_nums = [1, 2, 3, 4, 5]\n",
    "\n",
    "def square(num):\n",
    "    return num**2\n",
    "\n",
    "list(map(square, my_nums))\n",
    "# Output: [1, 4, 9, 16, 25]\n",
    "\n",
    "list(map(lambda x: x ** 2, my_nums))\n",
    "# Output: [1, 4, 9, 16, 25]\n",
    "\n",
    "names = [\"Swikrit Thapa\", \"Arju Sharma\", \"Mavira KC\", \"Nistha Acharya\", \"Hingish Limbu\"]\n",
    "\n",
    "lambda s: s[0]\n",
    "# Output: <function __main__.<lambda>(s)>\n",
    "\n",
    "list(map(lambda s: s[0], names))\n",
    "# Output: ['S', 'A', 'M', 'N', 'H']\n",
    "\n",
    "list(map(lambda s : s.upper(), names))\n",
    "# Output: ['SWIKRIT THAPA', 'ARJU SHARMA', 'MAVIRA KC', 'NISTHA ACHARYA', 'HINGISH LIMBU']\n",
    "\n",
    "list(map(lambda s : s.split()[-1], names))\n",
    "# Output: ['Thapa', 'Sharma', 'KC', 'Acharya', 'Limbu']\n",
    "\n",
    "list(map(lambda s: \" \".join(s.split()[::-1]), names))\n",
    "# Output: ['Thapa Swikrit', 'Sharma Arju', 'KC Mavira', 'Acharya Nistha', 'Limbu Hingish']\n"
   ]
  },
  {
   "cell_type": "code",
   "execution_count": 3,
   "metadata": {},
   "outputs": [
    {
     "data": {
      "text/plain": [
       "5"
      ]
     },
     "execution_count": 3,
     "metadata": {},
     "output_type": "execute_result"
    }
   ],
   "source": [
    "\n",
    "my_nums = [1, 2, 3, 4, 5]\n",
    "\n",
    "def square(num):\n",
    "    return num**2\n",
    "\n",
    "list(map(square, my_nums))\n",
    "\n",
    "\n",
    "list(map(lambda x: x ** 2, my_nums))\n",
    "\n",
    "\n",
    "names = [\"Swikrit Thapa\", \"Arju Sharma\", \"Mavira KC\", \"Nistha Acharya\", \"Hingish Limbu\"]\n",
    "\n",
    "lambda s: s[0]\n",
    "\n",
    "\n",
    "list(map(lambda s: s[0], names))\n",
    "\n",
    "\n",
    "list(map(lambda s: s.upper(), names))\n",
    "\n",
    "\n",
    "list(map(lambda s : s.split()[-1], names))\n",
    "\n",
    "\n",
    "list(map(lambda s: \" \".join(s.split()[::-1]), names))\n",
    "\n",
    "\n",
    "list(map(lambda s: s.split()[-1], names))\n",
    "\n",
    "list(map(lambda s: \" \".join(s.split()[::-1]), names))\n",
    "\n",
    "\n",
    "list(map(lambda s: s.upper(), names))\n",
    "\n",
    "lambda s: s[::-1]\n",
    "\n",
    "\n",
    "list(map(lambda s: s[::-1], names))\n",
    "\n",
    "ans = lambda x, y: x + y\n",
    "ans(2, 3)\n",
    "\n"
   ]
  }
 ],
 "metadata": {
  "kernelspec": {
   "display_name": "venv",
   "language": "python",
   "name": "python3"
  },
  "language_info": {
   "codemirror_mode": {
    "name": "ipython",
    "version": 3
   },
   "file_extension": ".py",
   "mimetype": "text/x-python",
   "name": "python",
   "nbconvert_exporter": "python",
   "pygments_lexer": "ipython3",
   "version": "3.13.1"
  }
 },
 "nbformat": 4,
 "nbformat_minor": 2
}
