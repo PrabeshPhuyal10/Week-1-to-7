{
 "cells": [
  {
   "cell_type": "code",
   "execution_count": 5,
   "metadata": {},
   "outputs": [
    {
     "name": "stderr",
     "output_type": "stream",
     "text": [
      "'pwd' is not recognized as an internal or external command,\n",
      "operable program or batch file.\n"
     ]
    }
   ],
   "source": [
    "!pwd\n"
   ]
  },
  {
   "cell_type": "code",
   "execution_count": 6,
   "metadata": {},
   "outputs": [],
   "source": [
    "myfile = open('original.txt')"
   ]
  },
  {
   "cell_type": "code",
   "execution_count": 7,
   "metadata": {},
   "outputs": [
    {
     "name": "stdout",
     "output_type": "stream",
     "text": [
      "<_io.TextIOWrapper name='original.txt' mode='r' encoding='cp1252'>\n"
     ]
    }
   ],
   "source": [
    "print(myfile)"
   ]
  },
  {
   "cell_type": "code",
   "execution_count": 8,
   "metadata": {},
   "outputs": [],
   "source": [
    "\n",
    "my_file = open('original.txt', \"r\")"
   ]
  },
  {
   "cell_type": "code",
   "execution_count": 9,
   "metadata": {},
   "outputs": [
    {
     "data": {
      "text/plain": [
       "''"
      ]
     },
     "execution_count": 9,
     "metadata": {},
     "output_type": "execute_result"
    }
   ],
   "source": [
    "\n",
    "my_file.read()"
   ]
  },
  {
   "cell_type": "code",
   "execution_count": 10,
   "metadata": {},
   "outputs": [
    {
     "data": {
      "text/plain": [
       "7"
      ]
     },
     "execution_count": 10,
     "metadata": {},
     "output_type": "execute_result"
    }
   ],
   "source": [
    "\n",
    "my_file.seek(7)"
   ]
  },
  {
   "cell_type": "code",
   "execution_count": 11,
   "metadata": {},
   "outputs": [
    {
     "data": {
      "text/plain": [
       "''"
      ]
     },
     "execution_count": 11,
     "metadata": {},
     "output_type": "execute_result"
    }
   ],
   "source": [
    "\n",
    "my_file.read()"
   ]
  },
  {
   "cell_type": "code",
   "execution_count": 12,
   "metadata": {},
   "outputs": [
    {
     "data": {
      "text/plain": [
       "''"
      ]
     },
     "execution_count": 12,
     "metadata": {},
     "output_type": "execute_result"
    }
   ],
   "source": [
    "my_file.seek(0)\n",
    "my_file.readline(2)"
   ]
  },
  {
   "cell_type": "code",
   "execution_count": 13,
   "metadata": {},
   "outputs": [
    {
     "data": {
      "text/plain": [
       "''"
      ]
     },
     "execution_count": 13,
     "metadata": {},
     "output_type": "execute_result"
    }
   ],
   "source": [
    "my_file.readline()"
   ]
  },
  {
   "cell_type": "code",
   "execution_count": 14,
   "metadata": {},
   "outputs": [],
   "source": [
    "my_file.close()"
   ]
  },
  {
   "cell_type": "code",
   "execution_count": 81,
   "metadata": {},
   "outputs": [
    {
     "name": "stdout",
     "output_type": "stream",
     "text": [
      "hi my name is Prabesh\n",
      "\n"
     ]
    }
   ],
   "source": [
    "f = open(\"original.txt\",\"r\")\n",
    "list_of_lines = f.readlines()\n",
    "print(list_of_lines[1])\n",
    "f.close()"
   ]
  },
  {
   "cell_type": "code",
   "execution_count": 18,
   "metadata": {},
   "outputs": [],
   "source": [
    "my_file = open('test.txt','w+')"
   ]
  },
  {
   "cell_type": "code",
   "execution_count": 82,
   "metadata": {},
   "outputs": [
    {
     "data": {
      "text/plain": [
       "18"
      ]
     },
     "execution_count": 82,
     "metadata": {},
     "output_type": "execute_result"
    }
   ],
   "source": [
    "my_file.write('This is a new line')"
   ]
  },
  {
   "cell_type": "code",
   "execution_count": 83,
   "metadata": {},
   "outputs": [
    {
     "data": {
      "text/plain": [
       "'This is a new line'"
      ]
     },
     "execution_count": 83,
     "metadata": {},
     "output_type": "execute_result"
    }
   ],
   "source": [
    "my_file.seek(0)\n",
    "my_file.read()"
   ]
  },
  {
   "cell_type": "code",
   "execution_count": 84,
   "metadata": {},
   "outputs": [],
   "source": [
    "my_file.close()"
   ]
  },
  {
   "cell_type": "code",
   "execution_count": 85,
   "metadata": {},
   "outputs": [],
   "source": [
    "f_new = open(\"test.txt\",\"w+\")\n",
    "f_new.write(\"\\nHello file!\")\n",
    "f_new.close()"
   ]
  },
  {
   "cell_type": "code",
   "execution_count": 86,
   "metadata": {},
   "outputs": [],
   "source": [
    "my_file = open(\"test.txt\", \"a+\")\n",
    "my_file.write(\"\\nthird line\")\n",
    "my_file.close()"
   ]
  },
  {
   "cell_type": "code",
   "execution_count": 87,
   "metadata": {},
   "outputs": [
    {
     "data": {
      "text/plain": [
       "23"
      ]
     },
     "execution_count": 87,
     "metadata": {},
     "output_type": "execute_result"
    }
   ],
   "source": [
    "my_file = open('test.txt','a+')\n",
    "my_file.write('\\nThis is text being appended to test.txt')\n",
    "my_file.write('\\nAnd another line here.')"
   ]
  },
  {
   "cell_type": "code",
   "execution_count": 88,
   "metadata": {},
   "outputs": [
    {
     "name": "stdout",
     "output_type": "stream",
     "text": [
      "\n",
      "Hello file!\n",
      "third line\n",
      "This is text being appended to test.txt\n",
      "And another line here.\n"
     ]
    }
   ],
   "source": [
    "my_file.seek(0)\n",
    "print(my_file.read())"
   ]
  },
  {
   "cell_type": "code",
   "execution_count": 89,
   "metadata": {},
   "outputs": [],
   "source": [
    "my_file.close()"
   ]
  },
  {
   "cell_type": "code",
   "execution_count": 90,
   "metadata": {},
   "outputs": [
    {
     "name": "stdout",
     "output_type": "stream",
     "text": [
      "Appending to test.txt\n"
     ]
    }
   ],
   "source": [
    "%%writefile -a test.txt\n",
    "This is text being appended to test.txt\n",
    "And another line here."
   ]
  },
  {
   "cell_type": "code",
   "execution_count": 91,
   "metadata": {},
   "outputs": [
    {
     "name": "stdout",
     "output_type": "stream",
     "text": [
      "Overwriting test.txt\n"
     ]
    }
   ],
   "source": [
    "%%writefile test.txt\n",
    "First Line\n",
    "Second Line"
   ]
  },
  {
   "cell_type": "code",
   "execution_count": 94,
   "metadata": {},
   "outputs": [
    {
     "name": "stdout",
     "output_type": "stream",
     "text": [
      "First Line\n",
      "\n",
      "Second Line\n",
      "\n"
     ]
    }
   ],
   "source": [
    "for line in open('test.txt'):\n",
    "    print(line)"
   ]
  },
  {
   "cell_type": "code",
   "execution_count": 96,
   "metadata": {},
   "outputs": [
    {
     "name": "stdout",
     "output_type": "stream",
     "text": [
      "First Line\n",
      "\n",
      "Second Line\n",
      "\n"
     ]
    }
   ],
   "source": [
    " for asdf in open('test.txt'):\n",
    "  print(asdf)"
   ]
  },
  {
   "cell_type": "code",
   "execution_count": 98,
   "metadata": {},
   "outputs": [
    {
     "name": "stdout",
     "output_type": "stream",
     "text": [
      "First Line\n",
      "Second Line\n",
      "\n"
     ]
    }
   ],
   "source": [
    "with open('test.txt', \"r\") as f:\n",
    " lines = f.read()\n",
    " print(lines)"
   ]
  },
  {
   "cell_type": "code",
   "execution_count": 99,
   "metadata": {},
   "outputs": [
    {
     "ename": "SyntaxError",
     "evalue": "unterminated string literal (detected at line 1) (2471142054.py, line 1)",
     "output_type": "error",
     "traceback": [
      "\u001b[1;36m  Cell \u001b[1;32mIn[99], line 1\u001b[1;36m\u001b[0m\n\u001b[1;33m    print(\"Hello\" World\")\u001b[0m\n\u001b[1;37m                       ^\u001b[0m\n\u001b[1;31mSyntaxError\u001b[0m\u001b[1;31m:\u001b[0m unterminated string literal (detected at line 1)\n"
     ]
    }
   ],
   "source": [
    "print(\"Hello\" World\")"
   ]
  },
  {
   "cell_type": "code",
   "execution_count": 101,
   "metadata": {},
   "outputs": [
    {
     "data": {
      "text/plain": [
       "-1"
      ]
     },
     "execution_count": 101,
     "metadata": {},
     "output_type": "execute_result"
    }
   ],
   "source": [
    "def mysum(x,y):\n",
    " return x - y\n",
    "mysum(3,4)"
   ]
  },
  {
   "cell_type": "code",
   "execution_count": 103,
   "metadata": {},
   "outputs": [],
   "source": [
    "def my_division(a,b):\n",
    " return a/b"
   ]
  },
  {
   "cell_type": "code",
   "execution_count": 104,
   "metadata": {},
   "outputs": [],
   "source": [
    "x = 5\n",
    "y = 1"
   ]
  },
  {
   "cell_type": "code",
   "execution_count": 116,
   "metadata": {},
   "outputs": [
    {
     "name": "stdout",
     "output_type": "stream",
     "text": [
      "Division output is:  5.0\n",
      "Proceeding to next steps ...\n"
     ]
    }
   ],
   "source": [
    "print(\"Division output is: \", my_division(x,y))\n",
    "print(\"Proceeding to next steps ...\")\n",
    "numeric = input(\"Please Enter a number: \")"
   ]
  },
  {
   "cell_type": "code",
   "execution_count": 112,
   "metadata": {},
   "outputs": [],
   "source": [
    "p = 5\n",
    "q = 0"
   ]
  },
  {
   "cell_type": "code",
   "execution_count": 117,
   "metadata": {},
   "outputs": [
    {
     "ename": "ZeroDivisionError",
     "evalue": "division by zero",
     "output_type": "error",
     "traceback": [
      "\u001b[1;31m---------------------------------------------------------------------------\u001b[0m",
      "\u001b[1;31mZeroDivisionError\u001b[0m                         Traceback (most recent call last)",
      "Cell \u001b[1;32mIn[117], line 1\u001b[0m\n\u001b[1;32m----> 1\u001b[0m \u001b[38;5;28mprint\u001b[39m(\u001b[38;5;124m\"\u001b[39m\u001b[38;5;124mDivision output is: \u001b[39m\u001b[38;5;124m\"\u001b[39m, \u001b[43mmy_division\u001b[49m\u001b[43m(\u001b[49m\u001b[43mp\u001b[49m\u001b[43m,\u001b[49m\u001b[43mq\u001b[49m\u001b[43m)\u001b[49m)\n\u001b[0;32m      2\u001b[0m \u001b[38;5;28mprint\u001b[39m(\u001b[38;5;124m\"\u001b[39m\u001b[38;5;124mProceeding to next steps ...\u001b[39m\u001b[38;5;124m\"\u001b[39m)\n\u001b[0;32m      3\u001b[0m numeric \u001b[38;5;241m=\u001b[39m \u001b[38;5;28minput\u001b[39m(\u001b[38;5;124m\"\u001b[39m\u001b[38;5;124mPlease Enter a number: \u001b[39m\u001b[38;5;124m\"\u001b[39m)\n",
      "Cell \u001b[1;32mIn[103], line 2\u001b[0m, in \u001b[0;36mmy_division\u001b[1;34m(a, b)\u001b[0m\n\u001b[0;32m      1\u001b[0m \u001b[38;5;28;01mdef\u001b[39;00m\u001b[38;5;250m \u001b[39m\u001b[38;5;21mmy_division\u001b[39m(a,b):\n\u001b[1;32m----> 2\u001b[0m  \u001b[38;5;28;01mreturn\u001b[39;00m \u001b[43ma\u001b[49m\u001b[38;5;241;43m/\u001b[39;49m\u001b[43mb\u001b[49m\n",
      "\u001b[1;31mZeroDivisionError\u001b[0m: division by zero"
     ]
    }
   ],
   "source": [
    "print(\"Division output is: \", my_division(p,q))\n",
    "print(\"Proceeding to next steps ...\")\n",
    "numeric = input(\"Please Enter a number: \")"
   ]
  },
  {
   "cell_type": "code",
   "execution_count": 155,
   "metadata": {},
   "outputs": [
    {
     "name": "stdout",
     "output_type": "stream",
     "text": [
      "Division output is:  5.0\n",
      "Proceeding to next steps ...\n",
      "Processing the number you just input!\n"
     ]
    }
   ],
   "source": [
    "try:\n",
    "       print(\"Division output is: \", my_division(x,y))\n",
    "except:\n",
    "       print(\"You divided by zero, which is not allowed in my math!\")\n",
    "\n",
    "print(\"Proceeding to next steps ...\")\n",
    "numeric = float(input(\"Please Enter a number: \"))\n",
    "print(\"Processing the number you just input!\")"
   ]
  },
  {
   "cell_type": "code",
   "execution_count": 156,
   "metadata": {},
   "outputs": [
    {
     "name": "stdout",
     "output_type": "stream",
     "text": [
      "You divided by zero, which is not allowed in my math!\n",
      "Proceeding to next steps ...\n",
      "Processing the number you just input!\n"
     ]
    }
   ],
   "source": [
    "try:\n",
    "   print(\"Division output is: \", my_division(p,q))\n",
    "except Exception:\n",
    "   print(\"You divided by zero, which is not allowed in my math!\")\n",
    "print(\"Proceeding to next steps ...\")\n",
    "numeric = float(input(\"Please Enter a number: \"))\n",
    "print(\"Processing the number you just input!\")"
   ]
  },
  {
   "cell_type": "code",
   "execution_count": 157,
   "metadata": {},
   "outputs": [
    {
     "name": "stdout",
     "output_type": "stream",
     "text": [
      "Problem in the code:  division by zero\n",
      "Proceeding to next steps ...\n"
     ]
    }
   ],
   "source": [
    "try:\n",
    "   print(\"Division output is: \", my_division(p,q))\n",
    "except Exception as e:\n",
    "   print(\"Problem in the code: \", e)\n",
    "print(\"Proceeding to next steps ...\")\n",
    "numeric = input(\"Please Enter a number: \")"
   ]
  },
  {
   "cell_type": "code",
   "execution_count": 158,
   "metadata": {},
   "outputs": [
    {
     "name": "stdout",
     "output_type": "stream",
     "text": [
      "Problem in the code:  division by zero\n",
      "Proceeding to next steps ...\n"
     ]
    }
   ],
   "source": [
    "try:\n",
    "  print(\"Division output is: \", my_division(p,q))\n",
    "except Exception as e:\n",
    "   print(\"Problem in the code: \", e)\n",
    "print(\"Proceeding to next steps ...\")\n",
    "numeric = input(\"Please Enter a number: \")"
   ]
  },
  {
   "cell_type": "code",
   "execution_count": 186,
   "metadata": {},
   "outputs": [
    {
     "name": "stdout",
     "output_type": "stream",
     "text": [
      "File opened!\n",
      "do something\n",
      "File closed!\n"
     ]
    }
   ],
   "source": [
    "try:\n",
    "  print(\"File opened!\")\n",
    "  print(\"do something\")\n",
    "  my_division(x,y)\n",
    "  print(\"File closed!\")\n",
    "except Exception as e:\n",
    "  print(\"Something went wrong: \", e)\n",
    "  print(\"File closed through except block!\")"
   ]
  },
  {
   "cell_type": "code",
   "execution_count": 177,
   "metadata": {},
   "outputs": [
    {
     "name": "stdout",
     "output_type": "stream",
     "text": [
      "File opened!\n",
      "do something\n",
      "Something went wrong:  division by zero\n",
      "File closed through except block!\n"
     ]
    }
   ],
   "source": [
    "try:\n",
    "  print(\"File opened!\")\n",
    "  print(\"do something\")\n",
    "  my_division(p,q)\n",
    "  print(\"File closed!\")\n",
    "except Exception as e:\n",
    "  print(\"Something went wrong: \", e)\n",
    "  print(\"File closed through except block!\")"
   ]
  },
  {
   "cell_type": "code",
   "execution_count": 178,
   "metadata": {},
   "outputs": [
    {
     "name": "stdout",
     "output_type": "stream",
     "text": [
      "File opened!\n",
      "do something\n",
      "File closed at last!\n"
     ]
    }
   ],
   "source": [
    "try:\n",
    "  print(\"File opened!\")\n",
    "  print(\"do something\")\n",
    "  my_division(1,2)\n",
    "  numeric = int(input(\"Please Enter a number: \"))\n",
    "except Exception as e:\n",
    "  print(\"Something went wrong: \", e)\n",
    "finally:\n",
    "  print(\"File closed at last!\")"
   ]
  },
  {
   "cell_type": "code",
   "execution_count": 179,
   "metadata": {},
   "outputs": [
    {
     "name": "stdout",
     "output_type": "stream",
     "text": [
      "File opened!\n",
      "do something\n",
      "Something went wrong:  division by zero\n",
      "File closed at last!\n"
     ]
    }
   ],
   "source": [
    "try:\n",
    "  print(\"File opened!\")\n",
    "  print(\"do something\")\n",
    "  my_division(1,0)\n",
    "except Exception as e:\n",
    "  print(\"Something went wrong: \", e)\n",
    "finally:\n",
    "  print(\"File closed at last!\")"
   ]
  },
  {
   "cell_type": "code",
   "execution_count": 180,
   "metadata": {},
   "outputs": [
    {
     "name": "stdout",
     "output_type": "stream",
     "text": [
      "File opened!\n",
      "do something\n",
      "File closed at last!\n"
     ]
    }
   ],
   "source": [
    "try:\n",
    "  print(\"File opened!\")\n",
    "  print(\"do something\")\n",
    "  my_division(x,y)\n",
    "  numeric = int(input(\"Please Enter a number: \"))\n",
    "except ZeroDivisionError as e:\n",
    "  print(\"Something went wrong: \", e)\n",
    "finally:\n",
    "  print(\"File closed at last!\")"
   ]
  },
  {
   "cell_type": "code",
   "execution_count": 182,
   "metadata": {},
   "outputs": [
    {
     "name": "stdout",
     "output_type": "stream",
     "text": [
      "File opened!\n",
      "do something\n",
      "File closed at last!\n"
     ]
    }
   ],
   "source": [
    "try:\n",
    "  print(\"File opened!\")\n",
    "  print(\"do something\")\n",
    "  my_division(x,y)\n",
    "  numeric = int(input(\"Please Enter a number: \"))\n",
    "except ZeroDivisionError as e:\n",
    "  print(\"Something went wrong: \", e)\n",
    "except ValueError as e:\n",
    "  print(\"Something went wrong: \", e)\n",
    "finally:\n",
    "  print(\"File closed at last!\")"
   ]
  },
  {
   "cell_type": "code",
   "execution_count": 183,
   "metadata": {},
   "outputs": [
    {
     "name": "stdout",
     "output_type": "stream",
     "text": [
      "File opened!\n",
      "do something\n",
      "File closed at last!\n"
     ]
    }
   ],
   "source": [
    "try:\n",
    "  print(\"File opened!\")\n",
    "  print(\"do something\")\n",
    "  my_division(1,5)\n",
    "  numeric = int(input(\"Please Enter a number: \"))\n",
    "except ZeroDivisionError as e:\n",
    "  print(\"Something went wrong: \",e)\n",
    "except ValueError as e:\n",
    "  print(\"Something went wrong: \",e)\n",
    "except Exception as e:\n",
    "  print(\"Something went wrong: \",e)\n",
    "finally:\n",
    "  print(\"File closed at last!\")"
   ]
  },
  {
   "cell_type": "code",
   "execution_count": 184,
   "metadata": {},
   "outputs": [
    {
     "name": "stdout",
     "output_type": "stream",
     "text": [
      "File opened!\n",
      "do something\n",
      "Everything went fine!\n",
      "File closed at last!\n"
     ]
    }
   ],
   "source": [
    "try:\n",
    "  print(\"File opened!\")\n",
    "  print(\"do something\")\n",
    "  my_division(1,5)\n",
    "  numeric = int(input(\"Please Enter a number: \"))\n",
    "except ZeroDivisionError as e:\n",
    "  print(\"Something went wrong: \",e)\n",
    "except ValueError as e:\n",
    "  print(\"Something went wrong: \",e)\n",
    "except Exception as e:\n",
    "  print(\"Something went wrong: \",e)\n",
    "else:\n",
    "  print(\"Everything went fine!\") # Only executes if the try block ran without encountering any errors\n",
    "finally:\n",
    "  print(\"File closed at last!\")"
   ]
  }
 ],
 "metadata": {
  "kernelspec": {
   "display_name": "venv",
   "language": "python",
   "name": "python3"
  },
  "language_info": {
   "codemirror_mode": {
    "name": "ipython",
    "version": 3
   },
   "file_extension": ".py",
   "mimetype": "text/x-python",
   "name": "python",
   "nbconvert_exporter": "python",
   "pygments_lexer": "ipython3",
   "version": "3.13.1"
  }
 },
 "nbformat": 4,
 "nbformat_minor": 2
}
